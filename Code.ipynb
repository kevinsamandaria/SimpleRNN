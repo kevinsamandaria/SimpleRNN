{
  "nbformat": 4,
  "nbformat_minor": 0,
  "metadata": {
    "colab": {
      "name": "Nomor4.ipynb",
      "provenance": [],
      "collapsed_sections": []
    },
    "kernelspec": {
      "name": "python3",
      "display_name": "Python 3"
    },
    "language_info": {
      "name": "python"
    }
  },
  "cells": [
    {
      "cell_type": "code",
      "metadata": {
        "id": "HaQc3yL3kmh9"
      },
      "source": [
        "import tensorflow as tf\n",
        "import pandas as pd \n",
        "import numpy as np\n",
        "import math\n",
        "import matplotlib.pyplot as plt\n",
        "from sklearn.preprocessing import MinMaxScaler\n",
        "from tensorflow import keras"
      ],
      "execution_count": 1,
      "outputs": []
    },
    {
      "cell_type": "markdown",
      "metadata": {
        "id": "pWuAoyjfnmNG"
      },
      "source": [
        "#Load Data"
      ]
    },
    {
      "cell_type": "code",
      "metadata": {
        "colab": {
          "base_uri": "https://localhost:8080/"
        },
        "id": "f_TEuL55lkyP",
        "outputId": "0a1ed710-6a75-4410-e28b-20ee8f030f5d"
      },
      "source": [
        "dataset = pd.read_csv('/content/drive/MyDrive/Colab Notebooks/Nomor4/USD_INR.csv', index_col='Date')\n",
        "dataset.index = pd.to_datetime(dataset.index)\n",
        "dataset = dataset.sort_index()\n",
        "print(dataset)"
      ],
      "execution_count": 2,
      "outputs": [
        {
          "output_type": "stream",
          "text": [
            "             Price    Open    High     Low  Change %\n",
            "Date                                                \n",
            "1980-01-02   8.000   8.000   8.000   8.000      0.00\n",
            "1980-01-03   7.950   7.950   7.950   7.950     -0.63\n",
            "1980-01-04   8.050   8.050   8.050   8.050      1.26\n",
            "1980-01-07   8.050   8.050   8.050   8.050      0.00\n",
            "1980-01-08   8.050   8.050   8.050   8.050      0.00\n",
            "...            ...     ...     ...     ...       ...\n",
            "2017-08-04  63.675  63.670  63.786  63.572     -0.05\n",
            "2017-08-07  63.840  63.710  63.865  63.648      0.26\n",
            "2017-08-08  63.692  63.750  63.785  63.615     -0.23\n",
            "2017-08-09  63.860  63.780  63.860  63.710      0.26\n",
            "2017-08-10  64.165  63.898  64.175  63.855      0.48\n",
            "\n",
            "[9697 rows x 5 columns]\n"
          ],
          "name": "stdout"
        }
      ]
    },
    {
      "cell_type": "markdown",
      "metadata": {
        "id": "SqJY_qww6dDO"
      },
      "source": [
        "#split data"
      ]
    },
    {
      "cell_type": "code",
      "metadata": {
        "id": "IuMzB3HR54qQ"
      },
      "source": [
        "data = dataset.filter(['Price'])\n",
        "dataset = data.values"
      ],
      "execution_count": 3,
      "outputs": []
    },
    {
      "cell_type": "code",
      "metadata": {
        "id": "g05iKRn1spft"
      },
      "source": [
        "split= int(len(dataset) * 0.8)\n",
        "train_dataset = dataset[: split]\n",
        "test_dataset = dataset[split + 1:]\n",
        "scaler = MinMaxScaler()\n",
        "feature = scaler.fit_transform(dataset)"
      ],
      "execution_count": 13,
      "outputs": []
    },
    {
      "cell_type": "code",
      "metadata": {
        "id": "E38VdZoanuyp"
      },
      "source": [
        "train_data = feature[: split, :]\n",
        "x_train = []\n",
        "y_train = []\n",
        "\n",
        "for i in range(10, len(train_data)):\n",
        "  x_train.append(train_data[i-10 : i, 0])\n",
        "  y_train.append(train_data[i,0])"
      ],
      "execution_count": 6,
      "outputs": []
    },
    {
      "cell_type": "markdown",
      "metadata": {
        "id": "t36ltpcWmG9w"
      },
      "source": [
        "# Reshape"
      ]
    },
    {
      "cell_type": "code",
      "metadata": {
        "id": "G6dWDfB2Bhxr"
      },
      "source": [
        "x_train, y_train = np.array(x_train), np.array(y_train)\n",
        "x_train = np.reshape(x_train, (x_train.shape[0], x_train.shape[1], 1))"
      ],
      "execution_count": 7,
      "outputs": []
    },
    {
      "cell_type": "markdown",
      "metadata": {
        "id": "3kWT3-u3E-Yg"
      },
      "source": [
        "# Build Model"
      ]
    },
    {
      "cell_type": "code",
      "metadata": {
        "id": "4Eq2gjeKBvKF"
      },
      "source": [
        "model = keras.Sequential()\n",
        "model.add(keras.layers.LSTM(50, return_sequences=True, input_shape=(x_train.shape[1], x_train.shape[2])))\n",
        "model.add(keras.layers.LSTM(50, return_sequences=False))\n",
        "model.add(keras.layers.Dense(25))\n",
        "model.add(keras.layers.Dense(1))\n",
        "model.compile(loss='mean_squared_error', optimizer=keras.optimizers.Adam(0.001))"
      ],
      "execution_count": 8,
      "outputs": []
    },
    {
      "cell_type": "code",
      "metadata": {
        "colab": {
          "base_uri": "https://localhost:8080/"
        },
        "id": "u5huQyjdODDx",
        "outputId": "24104b1c-3849-4d70-8890-e603eb0bbae8"
      },
      "source": [
        "model.fit(x_train,y_train, batch_size = 3, epochs=2)"
      ],
      "execution_count": 9,
      "outputs": [
        {
          "output_type": "stream",
          "text": [
            "Epoch 1/2\n",
            "2583/2583 [==============================] - 29s 10ms/step - loss: 0.0025\n",
            "Epoch 2/2\n",
            "2583/2583 [==============================] - 26s 10ms/step - loss: 9.9158e-05\n"
          ],
          "name": "stdout"
        },
        {
          "output_type": "execute_result",
          "data": {
            "text/plain": [
              "<tensorflow.python.keras.callbacks.History at 0x7febaefcea50>"
            ]
          },
          "metadata": {
            "tags": []
          },
          "execution_count": 9
        }
      ]
    },
    {
      "cell_type": "markdown",
      "metadata": {
        "id": "_xYfmiXzdHWo"
      },
      "source": [
        "# Test data"
      ]
    },
    {
      "cell_type": "code",
      "metadata": {
        "colab": {
          "base_uri": "https://localhost:8080/"
        },
        "id": "V3DqxxUCOK8Z",
        "outputId": "f1178841-1aab-40d4-ebfd-958285103e4b"
      },
      "source": [
        "test_data = feature[split-10:, :]\n",
        "x_test = []\n",
        "y_test = feature[split:, :]\n",
        "print(len(test_data))\n",
        "\n",
        "for i in range(10, len(test_data)):\n",
        "  x_test.append(test_data[i-10: i, 0])"
      ],
      "execution_count": 10,
      "outputs": [
        {
          "output_type": "stream",
          "text": [
            "1950\n"
          ],
          "name": "stdout"
        }
      ]
    },
    {
      "cell_type": "code",
      "metadata": {
        "id": "20kN7oWmcShd"
      },
      "source": [
        "x_test = np.array(x_test)\n",
        "x_test = np.reshape(x_test, (x_test.shape[0], x_test.shape[1], 1))\n",
        "\n",
        "pred = model.predict(x_test)\n",
        "pred = scaler.inverse_transform(pred)\n",
        "rmse = np.sqrt(np.mean(pred - y_test)**2)"
      ],
      "execution_count": 11,
      "outputs": []
    },
    {
      "cell_type": "markdown",
      "metadata": {
        "id": "fiBVEpCK1NCp"
      },
      "source": [
        "# Plot the data"
      ]
    },
    {
      "cell_type": "code",
      "metadata": {
        "colab": {
          "base_uri": "https://localhost:8080/",
          "height": 505
        },
        "id": "5ohrrgocch-v",
        "outputId": "68f96f7c-dc95-48d9-a27e-f1f4a157f96d"
      },
      "source": [
        "train_temp = data[: split]\n",
        "data_temp = data[split:]\n",
        "data_temp['Prediction'] = pred\n",
        "\n",
        "plt.figure(figsize=(10, 5))\n",
        "plt.title(\"UST to INR\")\n",
        "plt.xlabel('Date')\n",
        "plt.ylabel('Price')\n",
        "plt.plot(train_temp['Price'])\n",
        "plt.plot(data_temp[['Price', 'Prediction']])"
      ],
      "execution_count": 17,
      "outputs": [
        {
          "output_type": "stream",
          "text": [
            "/usr/local/lib/python3.7/dist-packages/ipykernel_launcher.py:6: SettingWithCopyWarning: \n",
            "A value is trying to be set on a copy of a slice from a DataFrame.\n",
            "Try using .loc[row_indexer,col_indexer] = value instead\n",
            "\n",
            "See the caveats in the documentation: https://pandas.pydata.org/pandas-docs/stable/user_guide/indexing.html#returning-a-view-versus-a-copy\n",
            "  \n"
          ],
          "name": "stderr"
        },
        {
          "output_type": "execute_result",
          "data": {
            "text/plain": [
              "[<matplotlib.lines.Line2D at 0x7feba732d0d0>,\n",
              " <matplotlib.lines.Line2D at 0x7feba732d310>]"
            ]
          },
          "metadata": {
            "tags": []
          },
          "execution_count": 17
        },
        {
          "output_type": "display_data",
          "data": {
            "image/png": "[encoded data removed]",
            "text/plain": [
              "<Figure size 720x360 with 1 Axes>"
            ]
          },
          "metadata": {
            "tags": [],
            "needs_background": "light"
          }
        }
      ]
    }
  ]
}